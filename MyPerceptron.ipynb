{
  "nbformat": 4,
  "nbformat_minor": 0,
  "metadata": {
    "colab": {
      "provenance": [],
      "authorship_tag": "ABX9TyMDj8BI2pdsUDgPKmyToAc+",
      "include_colab_link": true
    },
    "kernelspec": {
      "name": "python3",
      "display_name": "Python 3"
    },
    "language_info": {
      "name": "python"
    }
  },
  "cells": [
    {
      "cell_type": "markdown",
      "metadata": {
        "id": "view-in-github",
        "colab_type": "text"
      },
      "source": [
        "<a href=\"https://colab.research.google.com/github/bpandey369/Sample-Project/blob/main/MyPerceptron.ipynb\" target=\"_parent\"><img src=\"https://colab.research.google.com/assets/colab-badge.svg\" alt=\"Open In Colab\"/></a>"
      ]
    },
    {
      "cell_type": "code",
      "execution_count": null,
      "metadata": {
        "id": "rm2DY_sg9wde"
      },
      "outputs": [],
      "source": [
        "\n",
        "\n",
        "class MyPerceptron:\n",
        "\n",
        "  def __init__(self,learning_rate=0.1,epochs=1000):\n",
        "    self.lr = learning_rate\n",
        "    self.epochs = epochs\n",
        "    self.weights = None\n",
        "    self.bias = None\n",
        "\n",
        "  def fit(self,X,y):\n",
        "    pass\n",
        "\n",
        "  def predict(self,X):\n",
        "    pass\n"
      ]
    },
    {
      "cell_type": "code",
      "source": [
        "obj = MyPerceptron()\n",
        "obj.fit(1,2)"
      ],
      "metadata": {
        "id": "YfBN8N_d-4o9"
      },
      "execution_count": null,
      "outputs": []
    }
  ]
}